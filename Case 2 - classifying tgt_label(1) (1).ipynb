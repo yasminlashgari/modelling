{
 "cells": [
  {
   "cell_type": "code",
   "execution_count": 1,
   "metadata": {},
   "outputs": [],
   "source": [
    "#setting up the data \n",
    "import pandas as pd\n",
    "import numpy as np\n",
    "import matplotlib.pyplot as plt\n",
    "import seaborn as sns\n",
    "# from IPython.display import display\n",
    "from IPython.core.interactiveshell import InteractiveShell\n",
    "\n",
    "InteractiveShell.ast_node_interactivity = \"all\"\n",
    "# pd.set_option('display.max_rows', 100, 'display.min_rows', 20)"
   ]
  },
  {
   "cell_type": "code",
   "execution_count": 2,
   "metadata": {},
   "outputs": [],
   "source": [
    "plt.rcParams['figure.figsize']=(15,10)"
   ]
  },
  {
   "cell_type": "code",
   "execution_count": 3,
   "metadata": {},
   "outputs": [
    {
     "data": {
      "text/html": [
       "<div>\n",
       "<style scoped>\n",
       "    .dataframe tbody tr th:only-of-type {\n",
       "        vertical-align: middle;\n",
       "    }\n",
       "\n",
       "    .dataframe tbody tr th {\n",
       "        vertical-align: top;\n",
       "    }\n",
       "\n",
       "    .dataframe thead th {\n",
       "        text-align: right;\n",
       "    }\n",
       "</style>\n",
       "<table border=\"1\" class=\"dataframe\">\n",
       "  <thead>\n",
       "    <tr style=\"text-align: right;\">\n",
       "      <th></th>\n",
       "      <th>Unnamed: 0</th>\n",
       "      <th>date</th>\n",
       "      <th>permno</th>\n",
       "      <th>prc</th>\n",
       "      <th>ret</th>\n",
       "      <th>relvol</th>\n",
       "      <th>size</th>\n",
       "      <th>prc_clipped</th>\n",
       "      <th>relvol_clipped</th>\n",
       "      <th>size_clipped</th>\n",
       "      <th>tgt_ret</th>\n",
       "      <th>tgt_label</th>\n",
       "      <th>mom3m</th>\n",
       "      <th>mom6m</th>\n",
       "      <th>mom12m</th>\n",
       "      <th>sz_cat</th>\n",
       "      <th>tgt_label2</th>\n",
       "    </tr>\n",
       "  </thead>\n",
       "  <tbody>\n",
       "    <tr>\n",
       "      <th>0</th>\n",
       "      <td>12</td>\n",
       "      <td>2001-01-31</td>\n",
       "      <td>80000</td>\n",
       "      <td>20.1250</td>\n",
       "      <td>0.025478</td>\n",
       "      <td>0.052441</td>\n",
       "      <td>11.180602</td>\n",
       "      <td>20.1250</td>\n",
       "      <td>0.052441</td>\n",
       "      <td>11.180602</td>\n",
       "      <td>-0.003106</td>\n",
       "      <td>3.0</td>\n",
       "      <td>0.019481</td>\n",
       "      <td>0.226563</td>\n",
       "      <td>0.171642</td>\n",
       "      <td>5</td>\n",
       "      <td>0.0</td>\n",
       "    </tr>\n",
       "    <tr>\n",
       "      <th>1</th>\n",
       "      <td>13</td>\n",
       "      <td>2001-02-28</td>\n",
       "      <td>80000</td>\n",
       "      <td>20.0625</td>\n",
       "      <td>-0.003106</td>\n",
       "      <td>0.023352</td>\n",
       "      <td>11.151626</td>\n",
       "      <td>20.0625</td>\n",
       "      <td>0.023352</td>\n",
       "      <td>11.151626</td>\n",
       "      <td>0.099688</td>\n",
       "      <td>1.0</td>\n",
       "      <td>0.080537</td>\n",
       "      <td>0.183824</td>\n",
       "      <td>0.229008</td>\n",
       "      <td>5</td>\n",
       "      <td>1.0</td>\n",
       "    </tr>\n",
       "    <tr>\n",
       "      <th>2</th>\n",
       "      <td>14</td>\n",
       "      <td>2001-03-30</td>\n",
       "      <td>80000</td>\n",
       "      <td>22.0625</td>\n",
       "      <td>0.099688</td>\n",
       "      <td>0.072649</td>\n",
       "      <td>11.244636</td>\n",
       "      <td>22.0625</td>\n",
       "      <td>0.072649</td>\n",
       "      <td>11.244636</td>\n",
       "      <td>-0.027989</td>\n",
       "      <td>6.0</td>\n",
       "      <td>0.022293</td>\n",
       "      <td>0.163043</td>\n",
       "      <td>0.360169</td>\n",
       "      <td>5</td>\n",
       "      <td>-1.0</td>\n",
       "    </tr>\n",
       "    <tr>\n",
       "      <th>3</th>\n",
       "      <td>15</td>\n",
       "      <td>2001-04-30</td>\n",
       "      <td>80000</td>\n",
       "      <td>21.4450</td>\n",
       "      <td>-0.027989</td>\n",
       "      <td>0.055857</td>\n",
       "      <td>11.216248</td>\n",
       "      <td>21.4450</td>\n",
       "      <td>0.055857</td>\n",
       "      <td>11.216248</td>\n",
       "      <td>0.010026</td>\n",
       "      <td>5.0</td>\n",
       "      <td>0.096273</td>\n",
       "      <td>0.146104</td>\n",
       "      <td>0.548246</td>\n",
       "      <td>5</td>\n",
       "      <td>1.0</td>\n",
       "    </tr>\n",
       "    <tr>\n",
       "      <th>4</th>\n",
       "      <td>16</td>\n",
       "      <td>2001-05-31</td>\n",
       "      <td>80000</td>\n",
       "      <td>21.6600</td>\n",
       "      <td>0.010026</td>\n",
       "      <td>0.025983</td>\n",
       "      <td>11.231117</td>\n",
       "      <td>21.6600</td>\n",
       "      <td>0.025983</td>\n",
       "      <td>11.231117</td>\n",
       "      <td>-0.021237</td>\n",
       "      <td>5.0</td>\n",
       "      <td>0.068910</td>\n",
       "      <td>0.151409</td>\n",
       "      <td>0.394797</td>\n",
       "      <td>5</td>\n",
       "      <td>-1.0</td>\n",
       "    </tr>\n",
       "  </tbody>\n",
       "</table>\n",
       "</div>"
      ],
      "text/plain": [
       "   Unnamed: 0        date  permno      prc       ret    relvol       size  \\\n",
       "0          12  2001-01-31   80000  20.1250  0.025478  0.052441  11.180602   \n",
       "1          13  2001-02-28   80000  20.0625 -0.003106  0.023352  11.151626   \n",
       "2          14  2001-03-30   80000  22.0625  0.099688  0.072649  11.244636   \n",
       "3          15  2001-04-30   80000  21.4450 -0.027989  0.055857  11.216248   \n",
       "4          16  2001-05-31   80000  21.6600  0.010026  0.025983  11.231117   \n",
       "\n",
       "   prc_clipped  relvol_clipped  size_clipped   tgt_ret  tgt_label     mom3m  \\\n",
       "0      20.1250        0.052441     11.180602 -0.003106        3.0  0.019481   \n",
       "1      20.0625        0.023352     11.151626  0.099688        1.0  0.080537   \n",
       "2      22.0625        0.072649     11.244636 -0.027989        6.0  0.022293   \n",
       "3      21.4450        0.055857     11.216248  0.010026        5.0  0.096273   \n",
       "4      21.6600        0.025983     11.231117 -0.021237        5.0  0.068910   \n",
       "\n",
       "      mom6m    mom12m  sz_cat  tgt_label2  \n",
       "0  0.226563  0.171642       5         0.0  \n",
       "1  0.183824  0.229008       5         1.0  \n",
       "2  0.163043  0.360169       5        -1.0  \n",
       "3  0.146104  0.548246       5         1.0  \n",
       "4  0.151409  0.394797       5        -1.0  "
      ]
     },
     "execution_count": 3,
     "metadata": {},
     "output_type": "execute_result"
    }
   ],
   "source": [
    "crsp = pd.read_csv('crsp_filtered2.csv')\n",
    "crsp.head()"
   ]
  },
  {
   "cell_type": "code",
   "execution_count": 4,
   "metadata": {},
   "outputs": [],
   "source": [
    "# train set: ~ 2009-12-31\n",
    "# test set: 2010-01-01 ~\n",
    "train = crsp[crsp.date < '2010-01-01']\n",
    "test = crsp[crsp.date >= '2010-01-01']\n",
    "\n",
    "x_cols = ['mom3m','mom6m','mom12m', \"ret\", \"size_clipped\", \"relvol_clipped\", \"prc_clipped\"] # input features\n",
    "x_train = train[x_cols]\n",
    "y_train = train['tgt_label']\n",
    "x_test = test[x_cols]\n",
    "y_test = test['tgt_label']"
   ]
  },
  {
   "cell_type": "markdown",
   "metadata": {},
   "source": [
    "# Random Forest "
   ]
  },
  {
   "cell_type": "code",
   "execution_count": 5,
   "metadata": {},
   "outputs": [],
   "source": [
    "#trying different methods of classification\n",
    "#Random Forest classifier \n",
    "\n",
    "from sklearn.ensemble import RandomForestClassifier"
   ]
  },
  {
   "cell_type": "code",
   "execution_count": 6,
   "metadata": {},
   "outputs": [
    {
     "data": {
      "text/plain": [
       "RandomForestClassifier()"
      ]
     },
     "execution_count": 6,
     "metadata": {},
     "output_type": "execute_result"
    }
   ],
   "source": [
    "clf=RandomForestClassifier(n_estimators= 100)\n",
    "\n",
    "clf.fit(x_train,y_train)\n"
   ]
  },
  {
   "cell_type": "code",
   "execution_count": 7,
   "metadata": {},
   "outputs": [
    {
     "data": {
      "text/plain": [
       "1.0"
      ]
     },
     "execution_count": 7,
     "metadata": {},
     "output_type": "execute_result"
    },
    {
     "data": {
      "text/plain": [
       "0.12057583432135316"
      ]
     },
     "execution_count": 7,
     "metadata": {},
     "output_type": "execute_result"
    }
   ],
   "source": [
    "# in-sample (train set) accuracy\n",
    "clf.score(x_train, y_train) \n",
    "\n",
    "# out-of-sample (test set) accuracy\n",
    "clf.score(x_test, y_test)"
   ]
  },
  {
   "cell_type": "code",
   "execution_count": 8,
   "metadata": {},
   "outputs": [],
   "source": [
    "from sklearn.model_selection import GridSearchCV"
   ]
  },
  {
   "cell_type": "code",
   "execution_count": 9,
   "metadata": {},
   "outputs": [
    {
     "data": {
      "text/plain": [
       "GridSearchCV(cv=3, estimator=RandomForestClassifier(),\n",
       "             param_grid={'max_depth': [3, 5, 10],\n",
       "                         'min_samples_split': [10, 30]})"
      ]
     },
     "execution_count": 9,
     "metadata": {},
     "output_type": "execute_result"
    }
   ],
   "source": [
    "# Parameters to test\n",
    "param_grid = {'max_depth': [3,5,10], \n",
    "              'min_samples_split': [10,30]}\n",
    "\n",
    "grid = GridSearchCV(clf, param_grid, cv=3)\n",
    "grid.fit(x_train, y_train)"
   ]
  },
  {
   "cell_type": "code",
   "execution_count": 10,
   "metadata": {},
   "outputs": [
    {
     "data": {
      "text/plain": [
       "{'max_depth': 10, 'min_samples_split': 10}"
      ]
     },
     "execution_count": 10,
     "metadata": {},
     "output_type": "execute_result"
    }
   ],
   "source": [
    "# Selected parameters\n",
    "grid.best_params_\n",
    "\n",
    "# Best classifier\n",
    "best_clf = grid.best_estimator_"
   ]
  },
  {
   "cell_type": "code",
   "execution_count": 11,
   "metadata": {},
   "outputs": [
    {
     "data": {
      "text/plain": [
       "0.24462538431863085"
      ]
     },
     "execution_count": 11,
     "metadata": {},
     "output_type": "execute_result"
    },
    {
     "data": {
      "text/plain": [
       "0.1297521414891154"
      ]
     },
     "execution_count": 11,
     "metadata": {},
     "output_type": "execute_result"
    }
   ],
   "source": [
    "# in-sample\n",
    "best_clf.score(x_train, y_train)\n",
    "\n",
    "# out-of-sample\n",
    "best_clf.score(x_test, y_test)"
   ]
  },
  {
   "cell_type": "markdown",
   "metadata": {},
   "source": [
    "# Bagging Classifier"
   ]
  },
  {
   "cell_type": "code",
   "execution_count": 13,
   "metadata": {},
   "outputs": [],
   "source": [
    "from sklearn.ensemble import BaggingClassifier\n",
    "\n",
    "clf1 = BaggingClassifier()\n",
    "clf1 = clf1.fit(x_train, y_train)\n"
   ]
  },
  {
   "cell_type": "code",
   "execution_count": 15,
   "metadata": {},
   "outputs": [
    {
     "data": {
      "text/plain": [
       "0.991781718707988"
      ]
     },
     "execution_count": 15,
     "metadata": {},
     "output_type": "execute_result"
    },
    {
     "data": {
      "text/plain": [
       "0.11480907247739247"
      ]
     },
     "execution_count": 15,
     "metadata": {},
     "output_type": "execute_result"
    }
   ],
   "source": [
    "# in-sample (train set) accuracy\n",
    "clf1.score(x_train, y_train) \n",
    "\n",
    "# out-of-sample (test set) accuracy\n",
    "clf1.score(x_test, y_test)"
   ]
  },
  {
   "cell_type": "markdown",
   "metadata": {},
   "source": [
    "# Naive-Bayes Classifier"
   ]
  },
  {
   "cell_type": "code",
   "execution_count": 35,
   "metadata": {},
   "outputs": [],
   "source": [
    "#Naive-Bayes Classifier \n",
    "#slightly changing the data \n",
    "\n",
    "x_cols1 = ['mom3m','mom6m','mom12m', \"ret\", \"sz_cat\", \"size_clipped\", \"relvol_clipped\", \"prc_clipped\"] # input features\n",
    "x_train1 = train[x_cols1]\n",
    "y_train = train['tgt_label']\n",
    "x_test1 = test[x_cols1]\n",
    "y_test = test['tgt_label']"
   ]
  },
  {
   "cell_type": "code",
   "execution_count": 36,
   "metadata": {},
   "outputs": [],
   "source": [
    "#from sklearn.tree import DecisionTreeClassifier\n",
    "from sklearn.naive_bayes import GaussianNB\n",
    "from sklearn import metrics"
   ]
  },
  {
   "cell_type": "code",
   "execution_count": 37,
   "metadata": {},
   "outputs": [],
   "source": [
    "clf2 = GaussianNB()\n",
    "clf2 = clf2.fit(x_train1, y_train)"
   ]
  },
  {
   "cell_type": "code",
   "execution_count": 38,
   "metadata": {},
   "outputs": [
    {
     "data": {
      "text/plain": [
       "0.12528495107609217"
      ]
     },
     "execution_count": 38,
     "metadata": {},
     "output_type": "execute_result"
    },
    {
     "data": {
      "text/plain": [
       "0.12387313123943286"
      ]
     },
     "execution_count": 38,
     "metadata": {},
     "output_type": "execute_result"
    }
   ],
   "source": [
    "# in-sample (train set) accuracy\n",
    "clf2.score(x_train1, y_train) \n",
    "\n",
    "# out-of-sample (test set) accuracy\n",
    "clf2.score(x_test1, y_test)"
   ]
  },
  {
   "cell_type": "markdown",
   "metadata": {},
   "source": [
    "# Gradient Boosting"
   ]
  },
  {
   "cell_type": "code",
   "execution_count": 20,
   "metadata": {},
   "outputs": [],
   "source": [
    "#Gradient boosting classifier \n",
    "from sklearn.ensemble import GradientBoostingClassifier"
   ]
  },
  {
   "cell_type": "code",
   "execution_count": 23,
   "metadata": {},
   "outputs": [],
   "source": [
    "clf3 = GradientBoostingClassifier()"
   ]
  },
  {
   "cell_type": "code",
   "execution_count": 24,
   "metadata": {},
   "outputs": [
    {
     "data": {
      "text/plain": [
       "GradientBoostingClassifier()"
      ]
     },
     "execution_count": 24,
     "metadata": {},
     "output_type": "execute_result"
    }
   ],
   "source": [
    "clf3.fit(x_train,y_train)"
   ]
  },
  {
   "cell_type": "code",
   "execution_count": 27,
   "metadata": {},
   "outputs": [
    {
     "data": {
      "text/plain": [
       "0.16800130931366244"
      ]
     },
     "execution_count": 27,
     "metadata": {},
     "output_type": "execute_result"
    },
    {
     "data": {
      "text/plain": [
       "0.12120021607818102"
      ]
     },
     "execution_count": 27,
     "metadata": {},
     "output_type": "execute_result"
    }
   ],
   "source": [
    "# in-sample (train set) accuracy\n",
    "clf3.score(x_train, y_train) \n",
    "\n",
    "# out-of-sample (test set) accuracy\n",
    "clf3.score(x_test, y_test)"
   ]
  },
  {
   "cell_type": "markdown",
   "metadata": {},
   "source": [
    "# Adaptive Boosting"
   ]
  },
  {
   "cell_type": "code",
   "execution_count": 39,
   "metadata": {},
   "outputs": [],
   "source": [
    "#Adaptive boosting classifier\n",
    "from sklearn.ensemble import AdaBoostClassifier"
   ]
  },
  {
   "cell_type": "code",
   "execution_count": 40,
   "metadata": {},
   "outputs": [],
   "source": [
    "clf4 = AdaBoostClassifier()"
   ]
  },
  {
   "cell_type": "code",
   "execution_count": 41,
   "metadata": {},
   "outputs": [
    {
     "data": {
      "text/plain": [
       "AdaBoostClassifier()"
      ]
     },
     "execution_count": 41,
     "metadata": {},
     "output_type": "execute_result"
    }
   ],
   "source": [
    "clf4.fit(x_train,y_train)"
   ]
  },
  {
   "cell_type": "code",
   "execution_count": 42,
   "metadata": {},
   "outputs": [
    {
     "data": {
      "text/plain": [
       "0.13502881659087454"
      ]
     },
     "execution_count": 42,
     "metadata": {},
     "output_type": "execute_result"
    },
    {
     "data": {
      "text/plain": [
       "0.13190590777390365"
      ]
     },
     "execution_count": 42,
     "metadata": {},
     "output_type": "execute_result"
    }
   ],
   "source": [
    "# in-sample (train set) accuracy\n",
    "clf4.score(x_train, y_train) \n",
    "\n",
    "# out-of-sample (test set) accuracy\n",
    "clf4.score(x_test, y_test)"
   ]
  },
  {
   "cell_type": "markdown",
   "metadata": {},
   "source": [
    "# Knn classifier"
   ]
  },
  {
   "cell_type": "code",
   "execution_count": 5,
   "metadata": {},
   "outputs": [],
   "source": [
    "from sklearn.neighbors import KNeighborsClassifier"
   ]
  },
  {
   "cell_type": "code",
   "execution_count": 6,
   "metadata": {},
   "outputs": [],
   "source": [
    "clf5 = KNeighborsClassifier()"
   ]
  },
  {
   "cell_type": "code",
   "execution_count": 7,
   "metadata": {},
   "outputs": [
    {
     "data": {
      "text/plain": [
       "KNeighborsClassifier()"
      ]
     },
     "execution_count": 7,
     "metadata": {},
     "output_type": "execute_result"
    }
   ],
   "source": [
    "clf5.fit(x_train,y_train)"
   ]
  },
  {
   "cell_type": "code",
   "execution_count": 9,
   "metadata": {},
   "outputs": [
    {
     "data": {
      "text/plain": [
       "0.37147099051916627"
      ]
     },
     "execution_count": 9,
     "metadata": {},
     "output_type": "execute_result"
    },
    {
     "name": "stdout",
     "output_type": "stream",
     "text": [
      "0.11213615731614061\n"
     ]
    }
   ],
   "source": [
    "# in-sample (train set) accuracy\n",
    "clf5.score(x_train, y_train) \n",
    "\n",
    "# out-of-sample (test set) accuracy\n",
    "a = clf5.score(x_test, y_test)\n",
    "print(a)"
   ]
  },
  {
   "cell_type": "code",
   "execution_count": 10,
   "metadata": {},
   "outputs": [],
   "source": [
    "clf6 = KNeighborsClassifier(2000)"
   ]
  },
  {
   "cell_type": "code",
   "execution_count": 11,
   "metadata": {},
   "outputs": [
    {
     "data": {
      "text/plain": [
       "KNeighborsClassifier(n_neighbors=2000)"
      ]
     },
     "execution_count": 11,
     "metadata": {},
     "output_type": "execute_result"
    }
   ],
   "source": [
    "clf6.fit(x_train,y_train)"
   ]
  },
  {
   "cell_type": "code",
   "execution_count": 13,
   "metadata": {},
   "outputs": [
    {
     "data": {
      "text/plain": [
       "0.13054558632702445"
      ]
     },
     "execution_count": 13,
     "metadata": {},
     "output_type": "execute_result"
    },
    {
     "name": "stdout",
     "output_type": "stream",
     "text": [
      "0.12161413207428039\n"
     ]
    }
   ],
   "source": [
    "# in-sample (train set) accuracy\n",
    "clf6.score(x_train, y_train) \n",
    "\n",
    "# out-of-sample (test set) accuracy\n",
    "a = clf6.score(x_test, y_test)\n",
    "print(a)"
   ]
  },
  {
   "cell_type": "code",
   "execution_count": 34,
   "metadata": {},
   "outputs": [],
   "source": [
    "#Best performing classifier- Adaptive Boosting"
   ]
  }
 ],
 "metadata": {
  "kernelspec": {
   "display_name": "Python 3",
   "language": "python",
   "name": "python3"
  },
  "language_info": {
   "codemirror_mode": {
    "name": "ipython",
    "version": 3
   },
   "file_extension": ".py",
   "mimetype": "text/x-python",
   "name": "python",
   "nbconvert_exporter": "python",
   "pygments_lexer": "ipython3",
   "version": "3.8.3"
  }
 },
 "nbformat": 4,
 "nbformat_minor": 4
}
